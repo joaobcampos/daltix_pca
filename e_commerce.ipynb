{
 "cells": [
  {
   "cell_type": "code",
   "execution_count": 29,
   "metadata": {},
   "outputs": [],
   "source": [
    "## This treatment applies what was found here:\n",
    "## http://kavita-ganesan.com/extracting-keywords-from-text-tfidf/\n",
    "## The method is Kavita Ganesan"
   ]
  },
  {
   "cell_type": "code",
   "execution_count": 69,
   "metadata": {},
   "outputs": [],
   "source": [
    "import numpy as np\n",
    "import pandas as pd\n",
    "import random\n",
    "import spacy\n",
    "import scipy\n",
    "from sklearn.feature_extraction.text import CountVectorizer\n",
    "from sklearn.feature_extraction.text import TfidfTransformer\n",
    "from sklearn.decomposition import TruncatedSVD\n",
    "import scipy.sparse as sp\n",
    "from sklearn.preprocessing import normalize"
   ]
  },
  {
   "cell_type": "code",
   "execution_count": 31,
   "metadata": {},
   "outputs": [],
   "source": [
    "import re\n",
    "def pre_process(text):\n",
    "    \n",
    "    # lowercase\n",
    "    text=text.lower()\n",
    "    \n",
    "    #remove tags\n",
    "    text=re.sub(\"</?.*?>\",\" <> \",text)\n",
    "    \n",
    "    # remove special characters and digits\n",
    "    text=re.sub(\"(\\\\d|\\\\W)+\",\" \",text)\n",
    "    \n",
    "    return text"
   ]
  },
  {
   "cell_type": "code",
   "execution_count": 32,
   "metadata": {},
   "outputs": [],
   "source": [
    "e_commerce = pd.read_csv('e_commerce.csv',  encoding='latin-1')\n",
    "e_commerce['product_description'].fillna('Description not available', inplace=True)\n",
    "e_commerce['product_title'].fillna('title not available', inplace=True)"
   ]
  },
  {
   "cell_type": "code",
   "execution_count": 33,
   "metadata": {
    "scrolled": true
   },
   "outputs": [
    {
     "data": {
      "text/html": [
       "<div>\n",
       "<style scoped>\n",
       "    .dataframe tbody tr th:only-of-type {\n",
       "        vertical-align: middle;\n",
       "    }\n",
       "\n",
       "    .dataframe tbody tr th {\n",
       "        vertical-align: top;\n",
       "    }\n",
       "\n",
       "    .dataframe thead th {\n",
       "        text-align: right;\n",
       "    }\n",
       "</style>\n",
       "<table border=\"1\" class=\"dataframe\">\n",
       "  <thead>\n",
       "    <tr style=\"text-align: right;\">\n",
       "      <th></th>\n",
       "      <th>_unit_id</th>\n",
       "      <th>relevance</th>\n",
       "      <th>relevance:variance</th>\n",
       "      <th>product_image</th>\n",
       "      <th>product_link</th>\n",
       "      <th>product_price</th>\n",
       "      <th>product_title</th>\n",
       "      <th>query</th>\n",
       "      <th>rank</th>\n",
       "      <th>source</th>\n",
       "      <th>url</th>\n",
       "      <th>product_description</th>\n",
       "    </tr>\n",
       "  </thead>\n",
       "  <tbody>\n",
       "    <tr>\n",
       "      <th>0</th>\n",
       "      <td>711158459</td>\n",
       "      <td>3.67</td>\n",
       "      <td>0.471</td>\n",
       "      <td>http://thumbs2.ebaystatic.com/d/l225/m/mzvzEUI...</td>\n",
       "      <td>http://www.ebay.com/itm/Sony-PlayStation-4-PS4...</td>\n",
       "      <td>$329.98</td>\n",
       "      <td>Sony PlayStation 4 (PS4) (Latest Model)- 500 G...</td>\n",
       "      <td>playstation 4</td>\n",
       "      <td>1</td>\n",
       "      <td>eBay</td>\n",
       "      <td>http://www.ebay.com/sch/i.html?_from=R40&amp;_trks...</td>\n",
       "      <td>The PlayStation 4 system opens the door to an ...</td>\n",
       "    </tr>\n",
       "    <tr>\n",
       "      <th>1</th>\n",
       "      <td>711158460</td>\n",
       "      <td>4.00</td>\n",
       "      <td>0.000</td>\n",
       "      <td>http://thumbs3.ebaystatic.com/d/l225/m/mJNDmSy...</td>\n",
       "      <td>http://www.ebay.com/itm/Sony-PlayStation-4-Lat...</td>\n",
       "      <td>$324.84</td>\n",
       "      <td>Sony PlayStation 4 (Latest Model)- 500 GB Jet ...</td>\n",
       "      <td>playstation 4</td>\n",
       "      <td>2</td>\n",
       "      <td>eBay</td>\n",
       "      <td>http://www.ebay.com/sch/i.html?_from=R40&amp;_trks...</td>\n",
       "      <td>The PlayStation 4 system opens the door to an ...</td>\n",
       "    </tr>\n",
       "    <tr>\n",
       "      <th>2</th>\n",
       "      <td>711158461</td>\n",
       "      <td>4.00</td>\n",
       "      <td>0.000</td>\n",
       "      <td>http://thumbs4.ebaystatic.com/d/l225/m/m10NZXA...</td>\n",
       "      <td>http://www.ebay.com/itm/Sony-PlayStation-4-PS4...</td>\n",
       "      <td>$324.83</td>\n",
       "      <td>Sony PlayStation 4 PS4 500 GB Jet Black Console</td>\n",
       "      <td>playstation 4</td>\n",
       "      <td>3</td>\n",
       "      <td>eBay</td>\n",
       "      <td>http://www.ebay.com/sch/i.html?_from=R40&amp;_trks...</td>\n",
       "      <td>The PlayStation 4 system opens the door to an ...</td>\n",
       "    </tr>\n",
       "    <tr>\n",
       "      <th>3</th>\n",
       "      <td>711158462</td>\n",
       "      <td>3.67</td>\n",
       "      <td>0.471</td>\n",
       "      <td>http://thumbs2.ebaystatic.com/d/l225/m/mZZXTmA...</td>\n",
       "      <td>http://www.ebay.com/itm/Sony-PlayStation-4-500...</td>\n",
       "      <td>$350.00</td>\n",
       "      <td>Sony - PlayStation 4 500GB The Last of Us Rema...</td>\n",
       "      <td>playstation 4</td>\n",
       "      <td>4</td>\n",
       "      <td>eBay</td>\n",
       "      <td>http://www.ebay.com/sch/i.html?_from=R40&amp;_trks...</td>\n",
       "      <td>Description not available</td>\n",
       "    </tr>\n",
       "    <tr>\n",
       "      <th>4</th>\n",
       "      <td>711158463</td>\n",
       "      <td>3.33</td>\n",
       "      <td>0.471</td>\n",
       "      <td>http://thumbs3.ebaystatic.com/d/l225/m/mzvzEUI...</td>\n",
       "      <td>http://www.ebay.com/itm/Sony-PlayStation-4-PS4...</td>\n",
       "      <td>$308.00\\nTrending at\\n$319.99</td>\n",
       "      <td>Sony PlayStation 4 (PS4) (Latest Model)- 500 G...</td>\n",
       "      <td>playstation 4</td>\n",
       "      <td>5</td>\n",
       "      <td>eBay</td>\n",
       "      <td>http://www.ebay.com/sch/i.html?_from=R40&amp;_trks...</td>\n",
       "      <td>The PlayStation 4 system opens the door to an ...</td>\n",
       "    </tr>\n",
       "  </tbody>\n",
       "</table>\n",
       "</div>"
      ],
      "text/plain": [
       "    _unit_id  relevance  relevance:variance  \\\n",
       "0  711158459       3.67               0.471   \n",
       "1  711158460       4.00               0.000   \n",
       "2  711158461       4.00               0.000   \n",
       "3  711158462       3.67               0.471   \n",
       "4  711158463       3.33               0.471   \n",
       "\n",
       "                                       product_image  \\\n",
       "0  http://thumbs2.ebaystatic.com/d/l225/m/mzvzEUI...   \n",
       "1  http://thumbs3.ebaystatic.com/d/l225/m/mJNDmSy...   \n",
       "2  http://thumbs4.ebaystatic.com/d/l225/m/m10NZXA...   \n",
       "3  http://thumbs2.ebaystatic.com/d/l225/m/mZZXTmA...   \n",
       "4  http://thumbs3.ebaystatic.com/d/l225/m/mzvzEUI...   \n",
       "\n",
       "                                        product_link  \\\n",
       "0  http://www.ebay.com/itm/Sony-PlayStation-4-PS4...   \n",
       "1  http://www.ebay.com/itm/Sony-PlayStation-4-Lat...   \n",
       "2  http://www.ebay.com/itm/Sony-PlayStation-4-PS4...   \n",
       "3  http://www.ebay.com/itm/Sony-PlayStation-4-500...   \n",
       "4  http://www.ebay.com/itm/Sony-PlayStation-4-PS4...   \n",
       "\n",
       "                   product_price  \\\n",
       "0                       $329.98    \n",
       "1                       $324.84    \n",
       "2                       $324.83    \n",
       "3                       $350.00    \n",
       "4  $308.00\\nTrending at\\n$319.99   \n",
       "\n",
       "                                       product_title          query  rank  \\\n",
       "0  Sony PlayStation 4 (PS4) (Latest Model)- 500 G...  playstation 4     1   \n",
       "1  Sony PlayStation 4 (Latest Model)- 500 GB Jet ...  playstation 4     2   \n",
       "2    Sony PlayStation 4 PS4 500 GB Jet Black Console  playstation 4     3   \n",
       "3  Sony - PlayStation 4 500GB The Last of Us Rema...  playstation 4     4   \n",
       "4  Sony PlayStation 4 (PS4) (Latest Model)- 500 G...  playstation 4     5   \n",
       "\n",
       "  source                                                url  \\\n",
       "0   eBay  http://www.ebay.com/sch/i.html?_from=R40&_trks...   \n",
       "1   eBay  http://www.ebay.com/sch/i.html?_from=R40&_trks...   \n",
       "2   eBay  http://www.ebay.com/sch/i.html?_from=R40&_trks...   \n",
       "3   eBay  http://www.ebay.com/sch/i.html?_from=R40&_trks...   \n",
       "4   eBay  http://www.ebay.com/sch/i.html?_from=R40&_trks...   \n",
       "\n",
       "                                 product_description  \n",
       "0  The PlayStation 4 system opens the door to an ...  \n",
       "1  The PlayStation 4 system opens the door to an ...  \n",
       "2  The PlayStation 4 system opens the door to an ...  \n",
       "3                          Description not available  \n",
       "4  The PlayStation 4 system opens the door to an ...  "
      ]
     },
     "execution_count": 33,
     "metadata": {},
     "output_type": "execute_result"
    }
   ],
   "source": [
    "e_commerce.head()"
   ]
  },
  {
   "cell_type": "code",
   "execution_count": 34,
   "metadata": {},
   "outputs": [
    {
     "data": {
      "text/plain": [
       "(32671, 12)"
      ]
     },
     "execution_count": 34,
     "metadata": {},
     "output_type": "execute_result"
    }
   ],
   "source": [
    "e_commerce.shape"
   ]
  },
  {
   "cell_type": "code",
   "execution_count": 35,
   "metadata": {},
   "outputs": [],
   "source": [
    "percentage = 0.7\n",
    "n_samples = int(percentage * e_commerce.shape[0])\n",
    "indexes_train = random.sample(range(n_samples), n_samples)\n",
    "X_train = e_commerce.iloc[e_commerce.index.isin(indexes_train)].copy()\n",
    "X_test  = e_commerce.iloc[~e_commerce.index.isin(indexes_train)].copy()"
   ]
  },
  {
   "cell_type": "code",
   "execution_count": 36,
   "metadata": {},
   "outputs": [
    {
     "data": {
      "text/plain": [
       "(22869, 12)"
      ]
     },
     "execution_count": 36,
     "metadata": {},
     "output_type": "execute_result"
    }
   ],
   "source": [
    "X_train.shape"
   ]
  },
  {
   "cell_type": "code",
   "execution_count": 37,
   "metadata": {},
   "outputs": [
    {
     "data": {
      "text/plain": [
       "(9802, 12)"
      ]
     },
     "execution_count": 37,
     "metadata": {},
     "output_type": "execute_result"
    }
   ],
   "source": [
    "X_test.shape"
   ]
  },
  {
   "cell_type": "code",
   "execution_count": 38,
   "metadata": {},
   "outputs": [
    {
     "data": {
      "text/plain": [
       "1     27522\n",
       "2      1946\n",
       "3       194\n",
       "4        83\n",
       "5        14\n",
       "6        11\n",
       "7         6\n",
       "11        3\n",
       "15        2\n",
       "10        2\n",
       "9         2\n",
       "8         2\n",
       "12        1\n",
       "20        1\n",
       "16        1\n",
       "Name: _unit_id, dtype: int64"
      ]
     },
     "execution_count": 38,
     "metadata": {},
     "output_type": "execute_result"
    }
   ],
   "source": [
    "e_commerce.groupby('product_title').count()['_unit_id'].value_counts()"
   ]
  },
  {
   "cell_type": "code",
   "execution_count": 39,
   "metadata": {},
   "outputs": [],
   "source": [
    "## Start of the process"
   ]
  },
  {
   "cell_type": "code",
   "execution_count": 40,
   "metadata": {},
   "outputs": [],
   "source": [
    "X_train['cleaned_description'] = X_train['product_description'].apply(lambda x:pre_process(x))\n",
    "X_test['cleaned_description'] = X_test['product_description'].apply(lambda x:pre_process(x))"
   ]
  },
  {
   "cell_type": "code",
   "execution_count": 41,
   "metadata": {},
   "outputs": [],
   "source": [
    "nlp = spacy.load('en')  # make sure to use larger model!"
   ]
  },
  {
   "cell_type": "code",
   "execution_count": 42,
   "metadata": {},
   "outputs": [],
   "source": [
    "stopwords = nlp.Defaults.stop_words #Get the stopwords\n",
    "docs=X_train['cleaned_description'].tolist()"
   ]
  },
  {
   "cell_type": "code",
   "execution_count": 43,
   "metadata": {},
   "outputs": [],
   "source": [
    "cv=CountVectorizer(max_df=0.85,stop_words=stopwords)\n",
    "word_count_vector=cv.fit_transform(docs)"
   ]
  },
  {
   "cell_type": "code",
   "execution_count": 44,
   "metadata": {},
   "outputs": [
    {
     "data": {
      "text/plain": [
       "(22869, 33354)"
      ]
     },
     "execution_count": 44,
     "metadata": {},
     "output_type": "execute_result"
    }
   ],
   "source": [
    "word_count_vector.shape"
   ]
  },
  {
   "cell_type": "code",
   "execution_count": 45,
   "metadata": {},
   "outputs": [
    {
     "data": {
      "text/plain": [
       "<22869x33354 sparse matrix of type '<class 'numpy.int64'>'\n",
       "\twith 770171 stored elements in Compressed Sparse Row format>"
      ]
     },
     "execution_count": 45,
     "metadata": {},
     "output_type": "execute_result"
    }
   ],
   "source": [
    "word_count_vector"
   ]
  },
  {
   "cell_type": "code",
   "execution_count": 46,
   "metadata": {},
   "outputs": [
    {
     "data": {
      "text/plain": [
       "['elegantmm',\n",
       " 'chock',\n",
       " 'urinary',\n",
       " 'deducted',\n",
       " 'lafem',\n",
       " 'companypolicycontents',\n",
       " 'mykonis',\n",
       " 'multicam',\n",
       " 'half',\n",
       " 'jbl']"
      ]
     },
     "execution_count": 46,
     "metadata": {},
     "output_type": "execute_result"
    }
   ],
   "source": [
    "list(cv.vocabulary_.keys())[:10]"
   ]
  },
  {
   "cell_type": "code",
   "execution_count": 47,
   "metadata": {},
   "outputs": [
    {
     "data": {
      "text/plain": [
       "TfidfTransformer(norm='l2', smooth_idf=True, sublinear_tf=False, use_idf=True)"
      ]
     },
     "execution_count": 47,
     "metadata": {},
     "output_type": "execute_result"
    }
   ],
   "source": [
    "tfidf_transformer=TfidfTransformer(smooth_idf=True,use_idf=True)\n",
    "tfidf_transformer.fit(word_count_vector)"
   ]
  },
  {
   "cell_type": "code",
   "execution_count": 48,
   "metadata": {},
   "outputs": [
    {
     "data": {
      "text/plain": [
       "array([ 4.65238689, 10.34443411, 10.34443411, ...,  4.66085434,\n",
       "        4.66085434, 10.34443411])"
      ]
     },
     "execution_count": 48,
     "metadata": {},
     "output_type": "execute_result"
    }
   ],
   "source": [
    "tfidf_transformer.idf_"
   ]
  },
  {
   "cell_type": "code",
   "execution_count": 49,
   "metadata": {},
   "outputs": [],
   "source": [
    "## Extract keywords"
   ]
  },
  {
   "cell_type": "code",
   "execution_count": 50,
   "metadata": {},
   "outputs": [
    {
     "data": {
      "text/plain": [
       "22869"
      ]
     },
     "execution_count": 50,
     "metadata": {},
     "output_type": "execute_result"
    }
   ],
   "source": [
    "len(docs)"
   ]
  },
  {
   "cell_type": "code",
   "execution_count": 51,
   "metadata": {},
   "outputs": [
    {
     "data": {
      "text/plain": [
       "int"
      ]
     },
     "execution_count": 51,
     "metadata": {},
     "output_type": "execute_result"
    }
   ],
   "source": [
    "number_matrix_columns = tfidf_transformer.idf_.shape[0]\n",
    "number_matrix_rows = len(docs)\n",
    "type(number_matrix_columns)"
   ]
  },
  {
   "cell_type": "code",
   "execution_count": 52,
   "metadata": {},
   "outputs": [],
   "source": [
    "docs_test = X_test['cleaned_description'].tolist()"
   ]
  },
  {
   "cell_type": "code",
   "execution_count": 55,
   "metadata": {},
   "outputs": [],
   "source": [
    "#tf_idf_table_train = np.empty((number_matrix_rows, number_matrix_columns))\n",
    "tf_idf_table_train = sp.csr_matrix((number_matrix_rows, number_matrix_columns)).tolil()\n",
    "for i in range(len(docs)):\n",
    "    tf_idf_table_train[i,:]=tfidf_transformer.transform(cv.transform([docs[i]]))"
   ]
  },
  {
   "cell_type": "code",
   "execution_count": 56,
   "metadata": {},
   "outputs": [],
   "source": [
    "tf_idf_table_train = tf_idf_table_train.tocsr()"
   ]
  },
  {
   "cell_type": "code",
   "execution_count": 58,
   "metadata": {},
   "outputs": [
    {
     "data": {
      "text/plain": [
       "<22869x33354 sparse matrix of type '<class 'numpy.float64'>'\n",
       "\twith 770171 stored elements in Compressed Sparse Row format>"
      ]
     },
     "execution_count": 58,
     "metadata": {},
     "output_type": "execute_result"
    }
   ],
   "source": [
    "tf_idf_table_train"
   ]
  },
  {
   "cell_type": "code",
   "execution_count": 60,
   "metadata": {},
   "outputs": [],
   "source": [
    "#u, s, vt = scipy.sparse.linalg.svds(tf_idf_table_train)"
   ]
  },
  {
   "cell_type": "code",
   "execution_count": 100,
   "metadata": {},
   "outputs": [],
   "source": [
    "svd = TruncatedSVD(n_components=2000, n_iter=7, random_state=42)"
   ]
  },
  {
   "cell_type": "code",
   "execution_count": 101,
   "metadata": {},
   "outputs": [
    {
     "data": {
      "text/plain": [
       "TruncatedSVD(algorithm='randomized', n_components=2000, n_iter=7,\n",
       "       random_state=42, tol=0.0)"
      ]
     },
     "execution_count": 101,
     "metadata": {},
     "output_type": "execute_result"
    }
   ],
   "source": [
    "svd.fit(tf_idf_table_train)"
   ]
  },
  {
   "cell_type": "code",
   "execution_count": 102,
   "metadata": {},
   "outputs": [
    {
     "data": {
      "text/plain": [
       "(2000, 33354)"
      ]
     },
     "execution_count": 102,
     "metadata": {},
     "output_type": "execute_result"
    }
   ],
   "source": [
    "svd.components_.shape"
   ]
  },
  {
   "cell_type": "code",
   "execution_count": 103,
   "metadata": {},
   "outputs": [
    {
     "data": {
      "text/plain": [
       "0.7933270915378761"
      ]
     },
     "execution_count": 103,
     "metadata": {},
     "output_type": "execute_result"
    }
   ],
   "source": [
    "svd.explained_variance_ratio_.sum()"
   ]
  },
  {
   "cell_type": "code",
   "execution_count": null,
   "metadata": {},
   "outputs": [],
   "source": []
  }
 ],
 "metadata": {
  "kernelspec": {
   "display_name": "Python 3",
   "language": "python",
   "name": "python3"
  },
  "language_info": {
   "codemirror_mode": {
    "name": "ipython",
    "version": 3
   },
   "file_extension": ".py",
   "mimetype": "text/x-python",
   "name": "python",
   "nbconvert_exporter": "python",
   "pygments_lexer": "ipython3",
   "version": "3.5.6"
  }
 },
 "nbformat": 4,
 "nbformat_minor": 2
}
